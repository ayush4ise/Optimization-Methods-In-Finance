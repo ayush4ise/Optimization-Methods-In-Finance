{
 "cells": [
  {
   "cell_type": "markdown",
   "metadata": {},
   "source": [
    "## Class Test Submission (11 November 2004)\n",
    "\n",
    "Name - Ayushkumar Parmar  \n",
    "Roll no - 21IM30005"
   ]
  },
  {
   "cell_type": "code",
   "execution_count": 1,
   "metadata": {},
   "outputs": [],
   "source": [
    "from IPython.display import Markdown, display\n",
    "\n",
    "def print_md(string):\n",
    "    display(Markdown(string))"
   ]
  },
  {
   "cell_type": "code",
   "execution_count": 2,
   "metadata": {},
   "outputs": [
    {
     "data": {
      "text/html": [
       "<div>\n",
       "<style scoped>\n",
       "    .dataframe tbody tr th:only-of-type {\n",
       "        vertical-align: middle;\n",
       "    }\n",
       "\n",
       "    .dataframe tbody tr th {\n",
       "        vertical-align: top;\n",
       "    }\n",
       "\n",
       "    .dataframe thead th {\n",
       "        text-align: right;\n",
       "    }\n",
       "</style>\n",
       "<table border=\"1\" class=\"dataframe\">\n",
       "  <thead>\n",
       "    <tr style=\"text-align: right;\">\n",
       "      <th></th>\n",
       "      <th>HINDPETRO_500104</th>\n",
       "      <th>HDFCBANK_500180</th>\n",
       "      <th>HINDUNILVR_500696</th>\n",
       "      <th>ADANIPOWER_533096</th>\n",
       "      <th>ANGELONE_543235</th>\n",
       "    </tr>\n",
       "    <tr>\n",
       "      <th>Date</th>\n",
       "      <th></th>\n",
       "      <th></th>\n",
       "      <th></th>\n",
       "      <th></th>\n",
       "      <th></th>\n",
       "    </tr>\n",
       "  </thead>\n",
       "  <tbody>\n",
       "    <tr>\n",
       "      <th>31-October-2024</th>\n",
       "      <td>377.25</td>\n",
       "      <td>1730.00</td>\n",
       "      <td>2564.55</td>\n",
       "      <td>599.05</td>\n",
       "      <td>3039.95</td>\n",
       "    </tr>\n",
       "    <tr>\n",
       "      <th>30-October-2024</th>\n",
       "      <td>388.30</td>\n",
       "      <td>1747.95</td>\n",
       "      <td>2550.00</td>\n",
       "      <td>594.00</td>\n",
       "      <td>2969.55</td>\n",
       "    </tr>\n",
       "    <tr>\n",
       "      <th>29-October-2024</th>\n",
       "      <td>384.05</td>\n",
       "      <td>1725.10</td>\n",
       "      <td>2589.95</td>\n",
       "      <td>578.05</td>\n",
       "      <td>2879.15</td>\n",
       "    </tr>\n",
       "    <tr>\n",
       "      <th>28-October-2024</th>\n",
       "      <td>379.80</td>\n",
       "      <td>1738.80</td>\n",
       "      <td>2547.95</td>\n",
       "      <td>585.65</td>\n",
       "      <td>2830.05</td>\n",
       "    </tr>\n",
       "    <tr>\n",
       "      <th>25-October-2024</th>\n",
       "      <td>405.00</td>\n",
       "      <td>1757.00</td>\n",
       "      <td>2525.00</td>\n",
       "      <td>605.10</td>\n",
       "      <td>2882.50</td>\n",
       "    </tr>\n",
       "  </tbody>\n",
       "</table>\n",
       "</div>"
      ],
      "text/plain": [
       "                 HINDPETRO_500104  HDFCBANK_500180  HINDUNILVR_500696  \\\n",
       "Date                                                                    \n",
       "31-October-2024            377.25          1730.00            2564.55   \n",
       "30-October-2024            388.30          1747.95            2550.00   \n",
       "29-October-2024            384.05          1725.10            2589.95   \n",
       "28-October-2024            379.80          1738.80            2547.95   \n",
       "25-October-2024            405.00          1757.00            2525.00   \n",
       "\n",
       "                 ADANIPOWER_533096  ANGELONE_543235  \n",
       "Date                                                 \n",
       "31-October-2024             599.05          3039.95  \n",
       "30-October-2024             594.00          2969.55  \n",
       "29-October-2024             578.05          2879.15  \n",
       "28-October-2024             585.65          2830.05  \n",
       "25-October-2024             605.10          2882.50  "
      ]
     },
     "execution_count": 2,
     "metadata": {},
     "output_type": "execute_result"
    }
   ],
   "source": [
    "import pandas as pd\n",
    "import numpy as np\n",
    "\n",
    "num_assets = 5\n",
    "capital = 100000\n",
    "# matrix of 1s\n",
    "e = np.array([[1] for _ in range(num_assets)])\n",
    "\n",
    "data = pd.read_excel('21IM30005_classtest_5assets.xlsx', index_col=0)\n",
    "data.head()"
   ]
  },
  {
   "cell_type": "markdown",
   "metadata": {},
   "source": [
    "## Expected Returns"
   ]
  },
  {
   "cell_type": "code",
   "execution_count": 3,
   "metadata": {},
   "outputs": [
    {
     "data": {
      "text/html": [
       "<div>\n",
       "<style scoped>\n",
       "    .dataframe tbody tr th:only-of-type {\n",
       "        vertical-align: middle;\n",
       "    }\n",
       "\n",
       "    .dataframe tbody tr th {\n",
       "        vertical-align: top;\n",
       "    }\n",
       "\n",
       "    .dataframe thead th {\n",
       "        text-align: right;\n",
       "    }\n",
       "</style>\n",
       "<table border=\"1\" class=\"dataframe\">\n",
       "  <thead>\n",
       "    <tr style=\"text-align: right;\">\n",
       "      <th></th>\n",
       "      <th>HINDPETRO_500104</th>\n",
       "      <th>HDFCBANK_500180</th>\n",
       "      <th>HINDUNILVR_500696</th>\n",
       "      <th>ADANIPOWER_533096</th>\n",
       "      <th>ANGELONE_543235</th>\n",
       "    </tr>\n",
       "    <tr>\n",
       "      <th>Stocks</th>\n",
       "      <th></th>\n",
       "      <th></th>\n",
       "      <th></th>\n",
       "      <th></th>\n",
       "      <th></th>\n",
       "    </tr>\n",
       "  </thead>\n",
       "  <tbody>\n",
       "    <tr>\n",
       "      <th>E(ri)</th>\n",
       "      <td>-0.006886</td>\n",
       "      <td>0.000285</td>\n",
       "      <td>-0.006674</td>\n",
       "      <td>-0.003951</td>\n",
       "      <td>0.008327</td>\n",
       "    </tr>\n",
       "  </tbody>\n",
       "</table>\n",
       "</div>"
      ],
      "text/plain": [
       "        HINDPETRO_500104  HDFCBANK_500180  HINDUNILVR_500696  \\\n",
       "Stocks                                                         \n",
       "E(ri)          -0.006886         0.000285          -0.006674   \n",
       "\n",
       "        ADANIPOWER_533096  ANGELONE_543235  \n",
       "Stocks                                      \n",
       "E(ri)           -0.003951         0.008327  "
      ]
     },
     "execution_count": 3,
     "metadata": {},
     "output_type": "execute_result"
    }
   ],
   "source": [
    "expected_returns = pd.read_excel('21IM30005_classtest_5assets.xlsx', sheet_name=\"Expected rate of return\", index_col=0)\n",
    "\n",
    "mu = expected_returns\n",
    "mu = mu.values\n",
    "mu = mu.T\n",
    "expected_returns.head()"
   ]
  },
  {
   "cell_type": "markdown",
   "metadata": {},
   "source": [
    "## Return Rates"
   ]
  },
  {
   "cell_type": "code",
   "execution_count": 4,
   "metadata": {},
   "outputs": [
    {
     "data": {
      "text/html": [
       "<div>\n",
       "<style scoped>\n",
       "    .dataframe tbody tr th:only-of-type {\n",
       "        vertical-align: middle;\n",
       "    }\n",
       "\n",
       "    .dataframe tbody tr th {\n",
       "        vertical-align: top;\n",
       "    }\n",
       "\n",
       "    .dataframe thead th {\n",
       "        text-align: right;\n",
       "    }\n",
       "</style>\n",
       "<table border=\"1\" class=\"dataframe\">\n",
       "  <thead>\n",
       "    <tr style=\"text-align: right;\">\n",
       "      <th></th>\n",
       "      <th>HINDPETRO_500104</th>\n",
       "      <th>HDFCBANK_500180</th>\n",
       "      <th>HINDUNILVR_500696</th>\n",
       "      <th>ADANIPOWER_533096</th>\n",
       "      <th>ANGELONE_543235</th>\n",
       "    </tr>\n",
       "    <tr>\n",
       "      <th>Date</th>\n",
       "      <th></th>\n",
       "      <th></th>\n",
       "      <th></th>\n",
       "      <th></th>\n",
       "      <th></th>\n",
       "    </tr>\n",
       "  </thead>\n",
       "  <tbody>\n",
       "    <tr>\n",
       "      <th>31-October-2024</th>\n",
       "      <td>-0.028457</td>\n",
       "      <td>-0.010269</td>\n",
       "      <td>0.005706</td>\n",
       "      <td>0.008502</td>\n",
       "      <td>0.023707</td>\n",
       "    </tr>\n",
       "    <tr>\n",
       "      <th>30-October-2024</th>\n",
       "      <td>0.011066</td>\n",
       "      <td>0.013246</td>\n",
       "      <td>-0.015425</td>\n",
       "      <td>0.027593</td>\n",
       "      <td>0.031398</td>\n",
       "    </tr>\n",
       "    <tr>\n",
       "      <th>29-October-2024</th>\n",
       "      <td>0.011190</td>\n",
       "      <td>-0.007879</td>\n",
       "      <td>0.016484</td>\n",
       "      <td>-0.012977</td>\n",
       "      <td>0.017350</td>\n",
       "    </tr>\n",
       "    <tr>\n",
       "      <th>28-October-2024</th>\n",
       "      <td>-0.062222</td>\n",
       "      <td>-0.010359</td>\n",
       "      <td>0.009089</td>\n",
       "      <td>-0.032143</td>\n",
       "      <td>-0.018196</td>\n",
       "    </tr>\n",
       "    <tr>\n",
       "      <th>25-October-2024</th>\n",
       "      <td>0.022727</td>\n",
       "      <td>0.011194</td>\n",
       "      <td>-0.047170</td>\n",
       "      <td>0.030747</td>\n",
       "      <td>-0.034322</td>\n",
       "    </tr>\n",
       "    <tr>\n",
       "      <th>24-October-2024</th>\n",
       "      <td>-0.010124</td>\n",
       "      <td>0.020707</td>\n",
       "      <td>0.000000</td>\n",
       "      <td>-0.001870</td>\n",
       "      <td>0.036315</td>\n",
       "    </tr>\n",
       "    <tr>\n",
       "      <th>23-October-2024</th>\n",
       "      <td>-0.034861</td>\n",
       "      <td>-0.015442</td>\n",
       "      <td>-0.011212</td>\n",
       "      <td>-0.024708</td>\n",
       "      <td>-0.045293</td>\n",
       "    </tr>\n",
       "    <tr>\n",
       "      <th>22-October-2024</th>\n",
       "      <td>-0.041618</td>\n",
       "      <td>0.005203</td>\n",
       "      <td>-0.013109</td>\n",
       "      <td>-0.013899</td>\n",
       "      <td>-0.022058</td>\n",
       "    </tr>\n",
       "    <tr>\n",
       "      <th>21-October-2024</th>\n",
       "      <td>0.005814</td>\n",
       "      <td>0.034679</td>\n",
       "      <td>-0.006748</td>\n",
       "      <td>0.002788</td>\n",
       "      <td>-0.009933</td>\n",
       "    </tr>\n",
       "    <tr>\n",
       "      <th>18-October-2024</th>\n",
       "      <td>-0.006814</td>\n",
       "      <td>-0.017726</td>\n",
       "      <td>-0.016511</td>\n",
       "      <td>-0.025098</td>\n",
       "      <td>-0.036755</td>\n",
       "    </tr>\n",
       "    <tr>\n",
       "      <th>17-October-2024</th>\n",
       "      <td>0.016553</td>\n",
       "      <td>0.008852</td>\n",
       "      <td>-0.000737</td>\n",
       "      <td>-0.011691</td>\n",
       "      <td>0.019203</td>\n",
       "    </tr>\n",
       "    <tr>\n",
       "      <th>16-October-2024</th>\n",
       "      <td>0.028744</td>\n",
       "      <td>-0.008862</td>\n",
       "      <td>-0.003564</td>\n",
       "      <td>-0.007993</td>\n",
       "      <td>0.092187</td>\n",
       "    </tr>\n",
       "    <tr>\n",
       "      <th>15-October-2024</th>\n",
       "      <td>0.044136</td>\n",
       "      <td>0.020838</td>\n",
       "      <td>0.002892</td>\n",
       "      <td>-0.006153</td>\n",
       "      <td>0.069187</td>\n",
       "    </tr>\n",
       "    <tr>\n",
       "      <th>14-October-2024</th>\n",
       "      <td>0.008906</td>\n",
       "      <td>-0.003606</td>\n",
       "      <td>0.010288</td>\n",
       "      <td>-0.004651</td>\n",
       "      <td>0.042418</td>\n",
       "    </tr>\n",
       "    <tr>\n",
       "      <th>11-October-2024</th>\n",
       "      <td>-0.012439</td>\n",
       "      <td>0.012781</td>\n",
       "      <td>-0.005916</td>\n",
       "      <td>0.003501</td>\n",
       "      <td>0.005088</td>\n",
       "    </tr>\n",
       "    <tr>\n",
       "      <th>10-October-2024</th>\n",
       "      <td>-0.008842</td>\n",
       "      <td>-0.005418</td>\n",
       "      <td>-0.027351</td>\n",
       "      <td>-0.008408</td>\n",
       "      <td>-0.006415</td>\n",
       "    </tr>\n",
       "    <tr>\n",
       "      <th>9-October-2024</th>\n",
       "      <td>0.037334</td>\n",
       "      <td>0.019943</td>\n",
       "      <td>0.005522</td>\n",
       "      <td>0.036622</td>\n",
       "      <td>0.038110</td>\n",
       "    </tr>\n",
       "    <tr>\n",
       "      <th>8-October-2024</th>\n",
       "      <td>-0.048783</td>\n",
       "      <td>-0.021330</td>\n",
       "      <td>0.001431</td>\n",
       "      <td>-0.024569</td>\n",
       "      <td>-0.056602</td>\n",
       "    </tr>\n",
       "    <tr>\n",
       "      <th>7-October-2024</th>\n",
       "      <td>0.003329</td>\n",
       "      <td>-0.008389</td>\n",
       "      <td>-0.019113</td>\n",
       "      <td>0.009448</td>\n",
       "      <td>-0.019835</td>\n",
       "    </tr>\n",
       "    <tr>\n",
       "      <th>4-October-2024</th>\n",
       "      <td>-0.064583</td>\n",
       "      <td>-0.024034</td>\n",
       "      <td>-0.011155</td>\n",
       "      <td>-0.021419</td>\n",
       "      <td>0.079324</td>\n",
       "    </tr>\n",
       "    <tr>\n",
       "      <th>3-October-2024</th>\n",
       "      <td>-0.015666</td>\n",
       "      <td>-0.008149</td>\n",
       "      <td>-0.013556</td>\n",
       "      <td>-0.006582</td>\n",
       "      <td>-0.030004</td>\n",
       "    </tr>\n",
       "  </tbody>\n",
       "</table>\n",
       "</div>"
      ],
      "text/plain": [
       "                 HINDPETRO_500104  HDFCBANK_500180  HINDUNILVR_500696  \\\n",
       "Date                                                                    \n",
       "31-October-2024         -0.028457        -0.010269           0.005706   \n",
       "30-October-2024          0.011066         0.013246          -0.015425   \n",
       "29-October-2024          0.011190        -0.007879           0.016484   \n",
       "28-October-2024         -0.062222        -0.010359           0.009089   \n",
       "25-October-2024          0.022727         0.011194          -0.047170   \n",
       "24-October-2024         -0.010124         0.020707           0.000000   \n",
       "23-October-2024         -0.034861        -0.015442          -0.011212   \n",
       "22-October-2024         -0.041618         0.005203          -0.013109   \n",
       "21-October-2024          0.005814         0.034679          -0.006748   \n",
       "18-October-2024         -0.006814        -0.017726          -0.016511   \n",
       "17-October-2024          0.016553         0.008852          -0.000737   \n",
       "16-October-2024          0.028744        -0.008862          -0.003564   \n",
       "15-October-2024          0.044136         0.020838           0.002892   \n",
       "14-October-2024          0.008906        -0.003606           0.010288   \n",
       "11-October-2024         -0.012439         0.012781          -0.005916   \n",
       "10-October-2024         -0.008842        -0.005418          -0.027351   \n",
       "9-October-2024           0.037334         0.019943           0.005522   \n",
       "8-October-2024          -0.048783        -0.021330           0.001431   \n",
       "7-October-2024           0.003329        -0.008389          -0.019113   \n",
       "4-October-2024          -0.064583        -0.024034          -0.011155   \n",
       "3-October-2024          -0.015666        -0.008149          -0.013556   \n",
       "\n",
       "                 ADANIPOWER_533096  ANGELONE_543235  \n",
       "Date                                                 \n",
       "31-October-2024           0.008502         0.023707  \n",
       "30-October-2024           0.027593         0.031398  \n",
       "29-October-2024          -0.012977         0.017350  \n",
       "28-October-2024          -0.032143        -0.018196  \n",
       "25-October-2024           0.030747        -0.034322  \n",
       "24-October-2024          -0.001870         0.036315  \n",
       "23-October-2024          -0.024708        -0.045293  \n",
       "22-October-2024          -0.013899        -0.022058  \n",
       "21-October-2024           0.002788        -0.009933  \n",
       "18-October-2024          -0.025098        -0.036755  \n",
       "17-October-2024          -0.011691         0.019203  \n",
       "16-October-2024          -0.007993         0.092187  \n",
       "15-October-2024          -0.006153         0.069187  \n",
       "14-October-2024          -0.004651         0.042418  \n",
       "11-October-2024           0.003501         0.005088  \n",
       "10-October-2024          -0.008408        -0.006415  \n",
       "9-October-2024            0.036622         0.038110  \n",
       "8-October-2024           -0.024569        -0.056602  \n",
       "7-October-2024            0.009448        -0.019835  \n",
       "4-October-2024           -0.021419         0.079324  \n",
       "3-October-2024           -0.006582        -0.030004  "
      ]
     },
     "execution_count": 4,
     "metadata": {},
     "output_type": "execute_result"
    }
   ],
   "source": [
    "# return rate for covariance matrix\n",
    "return_rates = pd.read_excel('21IM30005_classtest_5assets.xlsx', sheet_name=\"Rate of Return (ri)\", index_col=0).dropna()\n",
    "return_rates"
   ]
  },
  {
   "cell_type": "markdown",
   "metadata": {},
   "source": [
    "## Covariance Matrix"
   ]
  },
  {
   "cell_type": "code",
   "execution_count": 5,
   "metadata": {},
   "outputs": [
    {
     "data": {
      "text/plain": [
       "array([[ 9.57074594e-04,  2.91534027e-04, -1.58035047e-05,\n",
       "         3.53496614e-04,  4.80147225e-04],\n",
       "       [ 2.91534027e-04,  2.57450948e-04, -3.60759632e-06,\n",
       "         1.79151736e-04,  1.32362654e-04],\n",
       "       [-1.58035047e-05, -3.60759632e-06,  2.07335402e-04,\n",
       "        -7.68518075e-05,  2.24906090e-04],\n",
       "       [ 3.53496614e-04,  1.79151736e-04, -7.68518075e-05,\n",
       "         3.48846529e-04,  1.45026686e-04],\n",
       "       [ 4.80147225e-04,  1.32362654e-04,  2.24906090e-04,\n",
       "         1.45026686e-04,  1.74852879e-03]])"
      ]
     },
     "execution_count": 5,
     "metadata": {},
     "output_type": "execute_result"
    }
   ],
   "source": [
    "# Covariance matrix\n",
    "cov_matrix = return_rates.cov()\n",
    "cov_matrix = cov_matrix.values\n",
    "cov_matrix"
   ]
  },
  {
   "cell_type": "markdown",
   "metadata": {},
   "source": [
    "## Question 1"
   ]
  },
  {
   "cell_type": "markdown",
   "metadata": {},
   "source": [
    "(1) Short selling allowed  \n",
    "(2) total return should be at least 3/5 of the sum of expected returns"
   ]
  },
  {
   "cell_type": "markdown",
   "metadata": {},
   "source": [
    "### Variance Risk"
   ]
  },
  {
   "cell_type": "code",
   "execution_count": 6,
   "metadata": {},
   "outputs": [
    {
     "name": "stdout",
     "output_type": "stream",
     "text": [
      "Set parameter Username\n",
      "Academic license - for non-commercial use only - expires 2025-08-14\n",
      "Gurobi Optimizer version 10.0.0 build v10.0.0rc2 (win64)\n",
      "\n",
      "CPU model: Intel(R) Core(TM) i5-10210U CPU @ 1.60GHz, instruction set [SSE2|AVX|AVX2]\n",
      "Thread count: 4 physical cores, 8 logical processors, using up to 8 threads\n",
      "\n",
      "Optimize a model with 2 rows, 5 columns and 10 nonzeros\n",
      "Model fingerprint: 0x0b4a4530\n",
      "Model has 15 quadratic objective terms\n",
      "Coefficient statistics:\n",
      "  Matrix range     [3e-04, 1e+00]\n",
      "  Objective range  [0e+00, 0e+00]\n",
      "  QObjective range [1e-05, 3e-03]\n",
      "  Bounds range     [0e+00, 0e+00]\n",
      "  RHS range        [5e-03, 1e+00]\n",
      "Presolve time: 0.06s\n",
      "Presolved: 2 rows, 5 columns, 10 nonzeros\n",
      "Presolved model has 15 quadratic objective terms\n",
      "Ordering time: 0.00s\n",
      "\n",
      "Barrier statistics:\n",
      " Free vars  : 4\n",
      " AA' NZ     : 1.500e+01\n",
      " Factor NZ  : 2.100e+01\n",
      " Factor Ops : 9.100e+01 (less than 1 second per iteration)\n",
      " Threads    : 1\n",
      "\n",
      "                  Objective                Residual\n",
      "Iter       Primal          Dual         Primal    Dual     Compl     Time\n",
      "   0   1.44533312e+05 -1.44533312e+05  1.87e+03 1.92e-06  1.00e+06     0s\n",
      "   1   2.35430690e+04 -2.36184559e+04  3.55e+02 3.63e-07  1.98e+05     0s\n",
      "   2   9.42822802e+01 -2.29547180e+02  2.11e+01 2.16e-08  1.36e+04     0s\n",
      "   3   4.83234944e-04 -1.37693228e+02  2.11e-05 2.16e-14  2.30e+01     0s\n",
      "   4   4.82804859e-04 -1.38176936e-01  1.61e-10 1.73e-18  2.31e-02     0s\n",
      "   5   4.70275368e-04 -5.54073206e-04  6.81e-13 3.47e-18  1.71e-04     0s\n",
      "   6   1.96074337e-04 -4.28289153e-05  6.94e-18 5.64e-18  3.98e-05     0s\n",
      "   7   1.09348995e-04  3.82736644e-05  2.78e-17 1.73e-18  1.18e-05     0s\n",
      "   8   9.25389382e-05  8.58138330e-05  6.94e-18 4.34e-19  1.12e-06     0s\n",
      "   9   9.01333662e-05  8.97623239e-05  4.54e-16 8.67e-19  6.18e-08     0s\n",
      "  10   9.00701668e-05  9.00679460e-05  3.61e-16 8.67e-19  3.70e-10     0s\n",
      "\n",
      "Barrier solved model in 10 iterations and 0.13 seconds (0.00 work units)\n",
      "Optimal objective 9.00701668e-05\n",
      "\n"
     ]
    }
   ],
   "source": [
    "## VARIANCE RISK\n",
    "\n",
    "import gurobipy as gp\n",
    "\n",
    "sum_expected = sum(expected_returns.iloc[0])\n",
    "\n",
    "# Create a new model\n",
    "model_2 = gp.Model(\"markowitz2\")\n",
    "\n",
    "# Addition of matrix variable for the stock weights (portfolio)\n",
    "w = model_2.addMVar(num_assets)\n",
    "\n",
    "variance_risk = w @ cov_matrix @ w\n",
    "\n",
    "# Set objective\n",
    "model_2.setObjective(variance_risk, gp.GRB.MINIMIZE)\n",
    "\n",
    "# Constraint: the sum of the weights should be 1\n",
    "model_2.addConstr(w.sum() == 1, \"budget\")\n",
    "\n",
    "# # Non-negative weights (short-selling is not allowed)\n",
    "# model_2.addConstr(w >= 0)\n",
    "model_2.addConstr(mu.T @ w >= 0.6 * sum_expected, \"expected return\")\n",
    "\n",
    "# Optimize model\n",
    "model_2.optimize()\n",
    "\n",
    "# Get the optimal weights\n",
    "optimal_portfolio_2 = w.x"
   ]
  },
  {
   "cell_type": "code",
   "execution_count": 7,
   "metadata": {},
   "outputs": [
    {
     "name": "stdout",
     "output_type": "stream",
     "text": [
      "Expected Returns: [-483.08914961]\n",
      "Variance Risk: 9.007016684288026e-05\n",
      "Optimized Portfolio: [1.21979878e-06 1.45707071e-01 5.49801556e-01 3.04490046e-01\n",
      " 1.06922465e-07]\n"
     ]
    }
   ],
   "source": [
    "# Expected Returns\n",
    "expected_returns_2 = np.dot(mu.T, capital * optimal_portfolio_2)\n",
    "print('Expected Returns:', expected_returns_2)\n",
    "\n",
    "# Variance Risk\n",
    "variance_risk_2 = np.dot(np.dot(optimal_portfolio_2.T, cov_matrix), optimal_portfolio_2)\n",
    "print('Variance Risk:', variance_risk_2)\n",
    "\n",
    "# Optimized Portfolio\n",
    "print('Optimized Portfolio:', optimal_portfolio_2)"
   ]
  },
  {
   "cell_type": "markdown",
   "metadata": {},
   "source": [
    "### MAD Risk"
   ]
  },
  {
   "cell_type": "code",
   "execution_count": 8,
   "metadata": {},
   "outputs": [
    {
     "name": "stdout",
     "output_type": "stream",
     "text": [
      "Gurobi Optimizer version 10.0.0 build v10.0.0rc2 (win64)\n",
      "\n",
      "CPU model: Intel(R) Core(TM) i5-10210U CPU @ 1.60GHz, instruction set [SSE2|AVX|AVX2]\n",
      "Thread count: 4 physical cores, 8 logical processors, using up to 8 threads\n",
      "\n",
      "Optimize a model with 45 rows, 26 columns and 267 nonzeros\n",
      "Model fingerprint: 0x415f10eb\n",
      "Coefficient statistics:\n",
      "  Matrix range     [7e-05, 1e+00]\n",
      "  Objective range  [5e-02, 5e-02]\n",
      "  Bounds range     [0e+00, 0e+00]\n",
      "  RHS range        [5e-03, 1e+00]\n",
      "Presolve removed 18 rows and 4 columns\n",
      "Presolve time: 0.02s\n",
      "Presolved: 27 rows, 22 columns, 160 nonzeros\n",
      "\n",
      "Iteration    Objective       Primal Inf.    Dual Inf.      Time\n",
      "       0    4.5879416e-03   5.887416e-01   0.000000e+00      0s\n",
      "      21    2.2107114e-02   0.000000e+00   0.000000e+00      0s\n",
      "\n",
      "Solved in 21 iterations and 0.03 seconds (0.00 work units)\n",
      "Optimal objective  2.210711351e-02\n"
     ]
    }
   ],
   "source": [
    "## MAD RISK\n",
    "\n",
    "# time period T\n",
    "T = return_rates.shape[0]\n",
    "\n",
    "# expected rate of return, R\n",
    "R = 0.005\n",
    "\n",
    "r = return_rates.values\n",
    "\n",
    "# Create a new model\n",
    "model_mad = gp.Model(\"mad\")\n",
    "\n",
    "# Addition of matrix variable for the stock weights (portfolio)\n",
    "w = model_mad.addMVar(num_assets)\n",
    "\n",
    "# Define variable lambda\n",
    "y = model_mad.addMVar(T)\n",
    "\n",
    "# Set objective function\n",
    "model_mad.setObjective(gp.quicksum(y) / T, gp.GRB.MINIMIZE)\n",
    "\n",
    "# Constraint: yt >= summation over j 1 to n (r_jt - mu_j) * w_j for all t\n",
    "for t in range(T):\n",
    "    model_mad.addConstr(y[t] >= gp.quicksum((r[t, j] - mu[j]) * w[j] for j in range(num_assets)))\n",
    "\n",
    "# Constraint: l >= - summation over j 1 to n (r_jt - mu_j) * w_j for all t\n",
    "for t in range(T):\n",
    "    model_mad.addConstr(y[t] >= -gp.quicksum((r[t, j] - mu[j]) * w[j] for j in range(num_assets)))\n",
    "\n",
    "# Constraint: sum(w) = 1\n",
    "model_mad.addConstr(gp.quicksum(w) == 1)\n",
    "\n",
    "# Constraint: mu * w >= R \n",
    "model_mad.addConstr(mu.T @ w >= R)\n",
    "\n",
    "# Costrainnt: Returns >= 0.6 * sum(expected returns)\n",
    "model_mad.addConstr(mu.T @ w >= 0.6 * sum_expected, \"expected return\")\n",
    "\n",
    "# Optimize model\n",
    "model_mad.optimize()"
   ]
  },
  {
   "cell_type": "code",
   "execution_count": 9,
   "metadata": {},
   "outputs": [
    {
     "name": "stdout",
     "output_type": "stream",
     "text": [
      "Minimum risk: 0.022107113512022554\n",
      "Optimal weights: [0.         0.41371359 0.         0.         0.58628641]\n",
      "Optimal portfolio return: [0.005]\n"
     ]
    }
   ],
   "source": [
    "# Minimum risk\n",
    "mad_risk = model_mad.objVal\n",
    "\n",
    "# Optimal weights\n",
    "weights = w.x\n",
    "\n",
    "# Optimal portfolio return\n",
    "portfolio_return = mu.T @ weights\n",
    "\n",
    "print(f\"Minimum risk: {mad_risk}\")\n",
    "print(f\"Optimal weights: {weights}\")\n",
    "print(f\"Optimal portfolio return: {portfolio_return}\")"
   ]
  },
  {
   "cell_type": "markdown",
   "metadata": {},
   "source": [
    "### MINMAX Risk"
   ]
  },
  {
   "cell_type": "code",
   "execution_count": 10,
   "metadata": {},
   "outputs": [
    {
     "name": "stdout",
     "output_type": "stream",
     "text": [
      "Warning for adding constraints: zero or small (< 1e-13) coefficients, ignored\n",
      "Gurobi Optimizer version 10.0.0 build v10.0.0rc2 (win64)\n",
      "\n",
      "CPU model: Intel(R) Core(TM) i5-10210U CPU @ 1.60GHz, instruction set [SSE2|AVX|AVX2]\n",
      "Thread count: 4 physical cores, 8 logical processors, using up to 8 threads\n",
      "\n",
      "Optimize a model with 13 rows, 6 columns and 25 nonzeros\n",
      "Model fingerprint: 0x65ba47e7\n",
      "Coefficient statistics:\n",
      "  Matrix range     [3e-04, 1e+00]\n",
      "  Objective range  [1e+00, 1e+00]\n",
      "  Bounds range     [0e+00, 0e+00]\n",
      "  RHS range        [5e-03, 1e+00]\n",
      "Presolve removed 13 rows and 6 columns\n",
      "Presolve time: 0.04s\n",
      "Presolve: All rows and columns removed\n",
      "Iteration    Objective       Primal Inf.    Dual Inf.      Time\n",
      "       0    0.0000000e+00   0.000000e+00   0.000000e+00      0s\n",
      "\n",
      "Solved in 0 iterations and 0.07 seconds (0.00 work units)\n",
      "Optimal objective  0.000000000e+00\n"
     ]
    }
   ],
   "source": [
    "# Create a new model\n",
    "model_minmax = gp.Model(\"minmax\")\n",
    "\n",
    "# Addition of matrix variable for the stock weights (portfolio)\n",
    "w = model_minmax.addMVar(num_assets)\n",
    "\n",
    "# Define variable lambda\n",
    "l = model_minmax.addMVar(1)\n",
    "\n",
    "# Set objective function\n",
    "model_minmax.setObjective(l, gp.GRB.MINIMIZE)\n",
    "\n",
    "# Constraint: l >= summation over t 1 to T (r_jt - mu_j) * w_j for all j\n",
    "for j in range(num_assets):\n",
    "    model_minmax.addConstr(l >= gp.quicksum((r[t, j] - mu[j]) * w[j] for t in range(T)))\n",
    "\n",
    "# Constraint: l >= - summation over t 1 to T (r_jt - mu_j) * w_j for all j\n",
    "for j in range(num_assets):\n",
    "    model_minmax.addConstr(l >= -gp.quicksum((r[t, j] - mu[j]) * w[j] for t in range(T)))\n",
    "\n",
    "# Constraint: sum(w) = 1\n",
    "model_minmax.addConstr(gp.quicksum(w) == 1)\n",
    "\n",
    "# Constraint: mu * w >= R \n",
    "model_minmax.addConstr(mu.T @ w >= R)\n",
    "\n",
    "# Costrainnt: Returns >= 0.6 * sum(expected returns)\n",
    "model_minmax.addConstr(mu.T @ w >= 0.6 * sum_expected, \"expected return\")\n",
    "\n",
    "# Optimize model\n",
    "model_minmax.optimize()"
   ]
  },
  {
   "cell_type": "code",
   "execution_count": 11,
   "metadata": {},
   "outputs": [
    {
     "name": "stdout",
     "output_type": "stream",
     "text": [
      "Minimum risk: 0.0\n",
      "Optimal weights: [0. 0. 0. 0. 1.]\n",
      "Optimal portfolio return: [0.00832731]\n"
     ]
    }
   ],
   "source": [
    "# Minimum risk\n",
    "minmax_risk = model_minmax.objVal\n",
    "\n",
    "# Optimal weights\n",
    "weights = w.x\n",
    "\n",
    "# Optimal portfolio return\n",
    "portfolio_return = mu.T @ weights\n",
    "\n",
    "print(f\"Minimum risk: {minmax_risk}\")\n",
    "print(f\"Optimal weights: {weights}\")\n",
    "print(f\"Optimal portfolio return: {portfolio_return}\")"
   ]
  },
  {
   "cell_type": "markdown",
   "metadata": {},
   "source": [
    "## Question 2"
   ]
  },
  {
   "cell_type": "markdown",
   "metadata": {},
   "source": [
    "### Market Point"
   ]
  },
  {
   "cell_type": "code",
   "execution_count": 12,
   "metadata": {},
   "outputs": [
    {
     "data": {
      "text/markdown": [
       "## Capital Market Point: $$(\\sigma_{mt}, \\mu_{mt}) = (0.0135, -0.0122)$$"
      ],
      "text/plain": [
       "<IPython.core.display.Markdown object>"
      ]
     },
     "metadata": {},
     "output_type": "display_data"
    }
   ],
   "source": [
    "# Calculating market portfolio\n",
    "# Assuming a risk-free rate of 0.03% per day\n",
    "# risk-free rate\n",
    "mu_rf = 0.0003\n",
    "\n",
    "covariance_matrix = cov_matrix\n",
    "# inverse of covariance matrix\n",
    "inv_cov_matrix = np.linalg.inv(covariance_matrix)\n",
    "# market portfolio weights\n",
    "w_mt = np.dot(inv_cov_matrix, (mu - mu_rf * e)) / np.dot(np.dot(e.T, inv_cov_matrix), (mu - mu_rf * e))\n",
    "\n",
    "# market portfolio expected rate of return\n",
    "mu_mt = np.dot(w_mt.T, mu)[0][0]\n",
    "\n",
    "# market portfolio standard deviation\n",
    "sigma_mt = np.sqrt(np.dot(np.dot(w_mt.T, covariance_matrix), w_mt))[0][0]\n",
    "\n",
    "# print the capital market point (sigma_mt, mu_mt)\n",
    "print_md(f'## Capital Market Point: $$(\\\\sigma_{{mt}}, \\\\mu_{{mt}}) = ({sigma_mt:.4f}, {mu_mt:.4f})$$')"
   ]
  },
  {
   "cell_type": "markdown",
   "metadata": {},
   "source": [
    "### Beta of the portfolio"
   ]
  },
  {
   "cell_type": "code",
   "execution_count": 20,
   "metadata": {},
   "outputs": [
    {
     "data": {
      "text/markdown": [
       "## Beta Values:"
      ],
      "text/plain": [
       "<IPython.core.display.Markdown object>"
      ]
     },
     "metadata": {},
     "output_type": "display_data"
    },
    {
     "name": "stdout",
     "output_type": "stream",
     "text": [
      "[0.5756, 0.0012, 0.5586, 0.3404, -0.6429]\n"
     ]
    }
   ],
   "source": [
    "# calculate the beta values for each asset using the formula beta_i = cov(i, m) / var(m)\n",
    "# var(m) = sigma_mt^2\n",
    "beta = np.array([np.dot(covariance_matrix[i], w_mt) / sigma_mt**2 for i in range(num_assets)])\n",
    "\n",
    "# print the beta values as a list\n",
    "print_md('## Beta Values:')\n",
    "print([round(b[0], 4) for b in beta])"
   ]
  },
  {
   "cell_type": "markdown",
   "metadata": {},
   "source": [
    "### Maximum Sharpe Ratio"
   ]
  },
  {
   "cell_type": "code",
   "execution_count": 14,
   "metadata": {},
   "outputs": [
    {
     "data": {
      "text/markdown": [
       "## Maximum Sharpe Ratio: $$SR = -0.9234$$"
      ],
      "text/plain": [
       "<IPython.core.display.Markdown object>"
      ]
     },
     "metadata": {},
     "output_type": "display_data"
    }
   ],
   "source": [
    "# Maximum Sharpe ratio\n",
    "sharpe_ratio = (mu_mt - mu_rf) / sigma_mt\n",
    "\n",
    "# print the maximum Sharpe ratio\n",
    "print_md(f'## Maximum Sharpe Ratio: $$SR = {sharpe_ratio:.4f}$$')"
   ]
  },
  {
   "cell_type": "markdown",
   "metadata": {},
   "source": [
    "## Question 3"
   ]
  },
  {
   "cell_type": "markdown",
   "metadata": {},
   "source": [
    "### Conditional Value at Risk (CVaR)"
   ]
  },
  {
   "cell_type": "code",
   "execution_count": 15,
   "metadata": {},
   "outputs": [
    {
     "name": "stdout",
     "output_type": "stream",
     "text": [
      "Gurobi Optimizer version 10.0.0 build v10.0.0rc2 (win64)\n",
      "\n",
      "CPU model: Intel(R) Core(TM) i5-10210U CPU @ 1.60GHz, instruction set [SSE2|AVX|AVX2]\n",
      "Thread count: 4 physical cores, 8 logical processors, using up to 8 threads\n",
      "\n",
      "Optimize a model with 44 rows, 27 columns and 262 nonzeros\n",
      "Model fingerprint: 0xbb6be79c\n",
      "Coefficient statistics:\n",
      "  Matrix range     [7e-05, 1e+00]\n",
      "  Objective range  [5e-02, 1e+00]\n",
      "  Bounds range     [0e+00, 0e+00]\n",
      "  RHS range        [5e-03, 1e+00]\n",
      "Presolve removed 17 rows and 5 columns\n",
      "Presolve time: 0.02s\n",
      "Presolved: 27 rows, 22 columns, 160 nonzeros\n",
      "\n",
      "Iteration    Objective       Primal Inf.    Dual Inf.      Time\n",
      "       0    4.3694682e-03   5.887416e-01   0.000000e+00      0s\n",
      "      21    2.1054394e-02   0.000000e+00   0.000000e+00      0s\n",
      "\n",
      "Solved in 21 iterations and 0.04 seconds (0.00 work units)\n",
      "Optimal objective  2.105439382e-02\n"
     ]
    }
   ],
   "source": [
    "# Conditional Value-at-Risk\n",
    "alpha = 0.05\n",
    "\n",
    "# Create a new model\n",
    "model_cvar = gp.Model(\"cvar\")\n",
    "\n",
    "# Addition of matrix variable for the stock weights (portfolio)\n",
    "w = model_cvar.addMVar(num_assets)\n",
    "\n",
    "# Define variable lambda\n",
    "l = model_cvar.addMVar(1)\n",
    "\n",
    "# Define variable y\n",
    "y = model_cvar.addMVar(T)\n",
    "\n",
    "# Set objective function\n",
    "model_cvar.setObjective(l + (1 / (T * alpha)) * gp.quicksum(y) / T, gp.GRB.MINIMIZE)\n",
    "\n",
    "# Constraint: yt >= summation over j 1 to n (r_jt - mu_j) * w_j for all t\n",
    "for t in range(T):\n",
    "    model_cvar.addConstr(y[t] >= gp.quicksum((r[t, j] - mu[j]) * w[j] for j in range(num_assets)))\n",
    "\n",
    "# Constraint: l >= - summation over j 1 to n (r_jt - mu_j) * w_j for all t\n",
    "for t in range(T):\n",
    "    model_cvar.addConstr(y[t] >= -gp.quicksum((r[t, j] - mu[j]) * w[j] for j in range(num_assets)))\n",
    "\n",
    "# Constraint: sum(w) = 1\n",
    "model_cvar.addConstr(gp.quicksum(w) == 1)\n",
    "\n",
    "# Constraint: mu * w >= R\n",
    "model_cvar.addConstr(mu.T @ w >= R)\n",
    "\n",
    "# Optimize model\n",
    "model_cvar.optimize()"
   ]
  },
  {
   "cell_type": "code",
   "execution_count": 16,
   "metadata": {},
   "outputs": [
    {
     "data": {
      "text/markdown": [
       "## Conditional Value-at-Risk: $$CVaR = 0.0211$$"
      ],
      "text/plain": [
       "<IPython.core.display.Markdown object>"
      ]
     },
     "metadata": {},
     "output_type": "display_data"
    }
   ],
   "source": [
    "# Print CVaR\n",
    "cvar = model_cvar.objVal\n",
    "print_md(f'## Conditional Value-at-Risk: $$CVaR = {cvar:.4f}$$')"
   ]
  },
  {
   "cell_type": "markdown",
   "metadata": {},
   "source": [
    "## Question 4"
   ]
  },
  {
   "cell_type": "markdown",
   "metadata": {},
   "source": [
    "### Multi-Objective Programming\n",
    "Using weighted-sum method"
   ]
  },
  {
   "cell_type": "code",
   "execution_count": 17,
   "metadata": {},
   "outputs": [],
   "source": [
    "# weights of risk and return\n",
    "w_risk = 1/3\n",
    "w_return = 2/3"
   ]
  },
  {
   "cell_type": "markdown",
   "metadata": {},
   "source": [
    "Variance Risk"
   ]
  },
  {
   "cell_type": "code",
   "execution_count": 18,
   "metadata": {},
   "outputs": [
    {
     "name": "stdout",
     "output_type": "stream",
     "text": [
      "Return: 0.008327310163739308, Risk: 0.0017485287778205424\n"
     ]
    },
    {
     "name": "stderr",
     "output_type": "stream",
     "text": [
      "C:\\Users\\Ayush\\AppData\\Local\\Temp\\ipykernel_20556\\1169174147.py:16: DeprecationWarning: Conversion of an array with ndim > 0 to a scalar is deprecated, and will error in future. Ensure you extract a single element from your array before performing this operation. (Deprecated NumPy 1.25.)\n",
      "  portfolio_return = gp.quicksum(weights[i] * returns[i] for i in range(len(returns)))\n"
     ]
    }
   ],
   "source": [
    "from gurobipy import GRB\n",
    "\n",
    "returns = mu  # Expected returns of assets\n",
    "\n",
    "# Create a new Gurobi model\n",
    "model = gp.Model(\"weighted_sum_method\")\n",
    "model.setParam('OutputFlag', 0)  # Turn off Gurobi output\n",
    "\n",
    "# Add variables for the weights of each asset in the portfolio\n",
    "weights = model.addVars(len(returns), lb=0, ub=1, name=\"weights\")\n",
    "\n",
    "# Set the constraint that weights must sum to 1\n",
    "model.addConstr(gp.quicksum(weights[i] for i in range(len(returns))) == 1, \"budget\")\n",
    "\n",
    "# Define portfolio return and risk\n",
    "portfolio_return = gp.quicksum(weights[i] * returns[i] for i in range(len(returns)))\n",
    "portfolio_risk = gp.quicksum(weights[i] * cov_matrix[i, j] * weights[j] \n",
    "                                for i in range(len(returns)) for j in range(len(returns)))\n",
    "\n",
    "# Set the weighted sum objective\n",
    "model.setObjective(w_risk * portfolio_risk - w_return * portfolio_return, GRB.MINIMIZE)\n",
    "\n",
    "# Optimize the model\n",
    "model.optimize()\n",
    "\n",
    "# Collect solutions if optimal\n",
    "if model.status == GRB.OPTIMAL:\n",
    "    w_values = [weights[i].x for i in range(len(returns))]\n",
    "    optimal_return = sum(w * r for w, r in zip(w_values, returns))[0]\n",
    "    optimal_risk = sum(w_values[i] * cov_matrix[i, j] * w_values[j] \n",
    "                        for i in range(len(returns)) for j in range(len(returns)))\n",
    "\n",
    "    print(f\"Return: {optimal_return}, Risk: {optimal_risk}\")"
   ]
  },
  {
   "cell_type": "markdown",
   "metadata": {},
   "source": [
    "MAD Risk"
   ]
  },
  {
   "cell_type": "code",
   "execution_count": 19,
   "metadata": {},
   "outputs": [
    {
     "name": "stdout",
     "output_type": "stream",
     "text": [
      "Return: 0.00832731019410228, Risk: 0.001748528786244017\n"
     ]
    },
    {
     "name": "stderr",
     "output_type": "stream",
     "text": [
      "C:\\Users\\Ayush\\AppData\\Local\\Temp\\ipykernel_20556\\3576604213.py:18: DeprecationWarning: Conversion of an array with ndim > 0 to a scalar is deprecated, and will error in future. Ensure you extract a single element from your array before performing this operation. (Deprecated NumPy 1.25.)\n",
      "  portfolio_return = gp.quicksum(weights[i] * returns[i] for i in range(len(returns)))\n"
     ]
    }
   ],
   "source": [
    "# Create a new model\n",
    "mop_mad = gp.Model(\"mop_mad\")\n",
    "mop_mad.setParam('OutputFlag', 0)  # Turn off Gurobi output\n",
    "\n",
    "# Add variables for the weights of each asset in the portfolio\n",
    "weights = mop_mad.addVars(len(returns), lb=0, ub=1, name=\"weights\")\n",
    "\n",
    "# Set the constraint that weights must sum to 1\n",
    "mop_mad.addConstr(gp.quicksum(weights[i] for i in range(len(returns))) == 1, \"budget\")\n",
    "\n",
    "# Define variable lambda\n",
    "y = mop_mad.addMVar(T)\n",
    "\n",
    "# Define MAD risk\n",
    "mad_risk = gp.quicksum(y) / T\n",
    "\n",
    "# Define portfolio return\n",
    "portfolio_return = gp.quicksum(weights[i] * returns[i] for i in range(len(returns)))\n",
    "\n",
    "# Set the objective function\n",
    "mop_mad.setObjective(w_risk * mad_risk - w_return * portfolio_return, GRB.MINIMIZE)\n",
    "\n",
    "# Optimize the model\n",
    "mop_mad.optimize()\n",
    "\n",
    "# Collect solutions if optimal\n",
    "if mop_mad.status == GRB.OPTIMAL:\n",
    "    w_values = [weights[i].x for i in range(len(returns))]\n",
    "    optimal_return = sum(w * r for w, r in zip(w_values, returns))[0]\n",
    "    optimal_risk = sum(w_values[i] * cov_matrix[i, j] * w_values[j] \n",
    "                        for i in range(len(returns)) for j in range(len(returns)))\n",
    "\n",
    "    print(f\"Return: {optimal_return}, Risk: {optimal_risk}\")"
   ]
  }
 ],
 "metadata": {
  "kernelspec": {
   "display_name": "Python 3",
   "language": "python",
   "name": "python3"
  },
  "language_info": {
   "codemirror_mode": {
    "name": "ipython",
    "version": 3
   },
   "file_extension": ".py",
   "mimetype": "text/x-python",
   "name": "python",
   "nbconvert_exporter": "python",
   "pygments_lexer": "ipython3",
   "version": "3.11.0"
  }
 },
 "nbformat": 4,
 "nbformat_minor": 2
}
