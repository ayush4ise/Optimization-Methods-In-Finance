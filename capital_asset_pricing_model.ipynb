{
 "cells": [
  {
   "cell_type": "markdown",
   "metadata": {},
   "source": [
    "## **Task**\n",
    "\n",
    "Q2. Consider your data of 50 assets. Write code and derive the following for your data set.  \n",
    "(a) Equation of Capital market line  \n",
    "(b) Capital market point  \n",
    "(c) Market Portfolio  \n",
    "(d) Equation of Security market line  \n",
    "(e) Beta of each asset\n",
    "\n",
    "**Assumption** : A risk-free asset is available at 0.03% return per day."
   ]
  },
  {
   "cell_type": "code",
   "execution_count": 1,
   "metadata": {},
   "outputs": [],
   "source": [
    "from IPython.display import Markdown, display\n",
    "\n",
    "def print_md(string):\n",
    "    display(Markdown(string))\n",
    "\n",
    "import pandas as pd\n",
    "import numpy as np\n",
    "\n",
    "num_assets = 50 # number of assets\n",
    "capital = 100000 # capital to invest\n",
    "\n",
    "cov_matrix = pd.read_excel('omf_all_data.xlsx', sheet_name='Covariance Matrix', index_col=0)\n",
    "# fill the upper triangle of the covariance matrix\n",
    "covariance_matrix = cov_matrix.fillna(cov_matrix.T)\n",
    "covariance_matrix = covariance_matrix.values\n",
    "\n",
    "# matrix of 1s\n",
    "e = np.array([[1] for _ in range(num_assets)])\n",
    "\n",
    "# expected rate of return\n",
    "mu = pd.read_excel('omf_all_data.xlsx', sheet_name='Expected rate of return, E(ri)', index_col=0)\n",
    "mu = mu.values\n",
    "mu = mu.T\n",
    "\n",
    "# Assuming a risk-free rate of 0.03% per day\n",
    "# risk-free rate\n",
    "mu_rf = 0.0003"
   ]
  },
  {
   "cell_type": "code",
   "execution_count": 2,
   "metadata": {},
   "outputs": [],
   "source": [
    "# Calculating market portfolio\n",
    "# inverse of covariance matrix\n",
    "inv_cov_matrix = np.linalg.inv(covariance_matrix)\n",
    "# market portfolio weights\n",
    "w_mt = np.dot(inv_cov_matrix, (mu - mu_rf * e)) / np.dot(np.dot(e.T, inv_cov_matrix), (mu - mu_rf * e))\n",
    "\n",
    "# market portfolio expected rate of return\n",
    "mu_mt = np.dot(w_mt.T, mu)[0][0]\n",
    "\n",
    "# market portfolio standard deviation\n",
    "sigma_mt = np.sqrt(np.dot(np.dot(w_mt.T, covariance_matrix), w_mt))[0][0]"
   ]
  },
  {
   "cell_type": "code",
   "execution_count": 3,
   "metadata": {},
   "outputs": [
    {
     "data": {
      "text/markdown": [
       "## The equation of the Capital Market Line is given by:"
      ],
      "text/plain": [
       "<IPython.core.display.Markdown object>"
      ]
     },
     "metadata": {},
     "output_type": "display_data"
    },
    {
     "data": {
      "text/markdown": [
       "## $$\\mu = \\mu_{rf} + \\frac{{\\mu_{mt} - \\mu_{rf}}}{{\\sigma_{mt}}} \\times \\sigma$$"
      ],
      "text/plain": [
       "<IPython.core.display.Markdown object>"
      ]
     },
     "metadata": {},
     "output_type": "display_data"
    },
    {
     "data": {
      "text/markdown": [
       "## $$\\mu = 0.0003 + 0.3627 \\times \\sigma$$"
      ],
      "text/plain": [
       "<IPython.core.display.Markdown object>"
      ]
     },
     "metadata": {},
     "output_type": "display_data"
    }
   ],
   "source": [
    "# print equation of capital market line using markdown\n",
    "print_md('## The equation of the Capital Market Line is given by:')\n",
    "print_md('## $$\\\\mu = \\\\mu_{rf} + \\\\frac{{\\\\mu_{mt} - \\\\mu_{rf}}}{{\\\\sigma_{mt}}} \\\\times \\\\sigma$$')\n",
    "\n",
    "# use the actual values to calculate the slope and intercept of the capital market line\n",
    "slope = (mu_mt - mu_rf) / sigma_mt\n",
    "intercept = mu_rf\n",
    "\n",
    "# print the equation of the capital market line (limit slope to 4 decimal places)\n",
    "print_md(f'## $$\\\\mu = {intercept:.4f} + {slope:.4f} \\\\times \\\\sigma$$')"
   ]
  },
  {
   "cell_type": "code",
   "execution_count": 4,
   "metadata": {},
   "outputs": [
    {
     "data": {
      "text/markdown": [
       "## Capital Market Point: $$(\\sigma_{mt}, \\mu_{mt}) = (0.0307, 0.0114)$$"
      ],
      "text/plain": [
       "<IPython.core.display.Markdown object>"
      ]
     },
     "metadata": {},
     "output_type": "display_data"
    }
   ],
   "source": [
    "# print the capital market point (sigma_mt, mu_mt)\n",
    "print_md(f'## Capital Market Point: $$(\\\\sigma_{{mt}}, \\\\mu_{{mt}}) = ({sigma_mt:.4f}, {mu_mt:.4f})$$')"
   ]
  },
  {
   "cell_type": "code",
   "execution_count": 5,
   "metadata": {},
   "outputs": [
    {
     "data": {
      "text/markdown": [
       "## Market Portfolio Weights:"
      ],
      "text/plain": [
       "<IPython.core.display.Markdown object>"
      ]
     },
     "metadata": {},
     "output_type": "display_data"
    },
    {
     "name": "stdout",
     "output_type": "stream",
     "text": [
      "[0.3561, 0.0712, -0.2915, 0.4361, 0.2512, 0.0118, 0.0122, 0.2478, -0.7657, 0.1117, 0.1065, -0.1832, -0.0802, -0.1159, -0.1138, -0.1776, -0.1034, -0.1711, 0.3068, -0.6153, -0.1693, 0.1643, -0.1877, -0.1904, 0.174, 0.0787, 0.3781, -0.0497, 0.1495, 0.439, 0.2295, 0.0401, -0.0579, 0.3373, 0.2397, 0.1166, -0.1532, -0.0004, 0.3716, -0.2826, -0.1796, -0.174, 0.2803, -0.1024, -0.0358, 0.4897, -0.0833, -0.0778, 0.1288, -0.1667]\n"
     ]
    }
   ],
   "source": [
    "# print the market portfolio weights as a list\n",
    "print_md('## Market Portfolio Weights:')\n",
    "\n",
    "# limit the weights to 4 decimal places\n",
    "print([round(w[0], 4) for w in w_mt])"
   ]
  },
  {
   "cell_type": "code",
   "execution_count": 6,
   "metadata": {},
   "outputs": [
    {
     "data": {
      "text/markdown": [
       "## The equation of the Security Market Line is given by:"
      ],
      "text/plain": [
       "<IPython.core.display.Markdown object>"
      ]
     },
     "metadata": {},
     "output_type": "display_data"
    },
    {
     "data": {
      "text/markdown": [
       "## $$\\mu_i = \\mu_{rf} + \\beta_i \\times (\\mu_{mt} - \\mu_{rf})$$"
      ],
      "text/plain": [
       "<IPython.core.display.Markdown object>"
      ]
     },
     "metadata": {},
     "output_type": "display_data"
    },
    {
     "data": {
      "text/markdown": [
       "## $$\\mu_i = 0.0003 + 0.0111 \\times \\beta_i$$"
      ],
      "text/plain": [
       "<IPython.core.display.Markdown object>"
      ]
     },
     "metadata": {},
     "output_type": "display_data"
    }
   ],
   "source": [
    "# equation of security market line\n",
    "print_md('## The equation of the Security Market Line is given by:')\n",
    "print_md('## $$\\\\mu_i = \\\\mu_{rf} + \\\\beta_i \\\\times (\\\\mu_{mt} - \\\\mu_{rf})$$')\n",
    "\n",
    "# use the actual values to calculate the slope and intercept of the safety market line\n",
    "slope = (mu_mt - mu_rf)\n",
    "intercept = mu_rf\n",
    "\n",
    "# print the equation of the security market line (limit slope to 4 decimal places)\n",
    "print_md(f'## $$\\\\mu_i = {intercept:.4f} + {slope:.4f} \\\\times \\\\beta_i$$')"
   ]
  },
  {
   "cell_type": "code",
   "execution_count": 7,
   "metadata": {},
   "outputs": [
    {
     "data": {
      "text/markdown": [
       "## Beta Values:"
      ],
      "text/plain": [
       "<IPython.core.display.Markdown object>"
      ]
     },
     "metadata": {},
     "output_type": "display_data"
    },
    {
     "name": "stdout",
     "output_type": "stream",
     "text": [
      "[0.1492, 0.1071, 0.0569, 0.1585, 0.1734, 0.071, 0.0032, 0.0521, -0.0194, 0.0772, 0.1287, 0.0143, 0.0589, 0.053, 0.0668, -0.1748, 0.0967, 0.0691, 0.1558, 0.015, -0.0982, 0.0524, -0.0008, -0.0155, 0.0699, 0.1743, 0.1864, 0.0378, 0.0906, 0.2229, 0.3349, 0.4483, 0.0542, 0.5797, 0.5995, 0.0812, 0.0612, 0.0748, 0.0305, 0.0215, -0.0192, 0.0662, 0.1448, -0.1138, 0.1067, 0.1256, 0.1378, 0.1429, 0.123, 0.0003]\n"
     ]
    }
   ],
   "source": [
    "# calculate the beta values for each asset using the formula beta_i = cov(i, m) / var(m)\n",
    "# var(m) = sigma_mt^2\n",
    "beta = np.array([np.dot(covariance_matrix[i], w_mt) / sigma_mt**2 for i in range(num_assets)])\n",
    "\n",
    "# print the beta values as a list\n",
    "print_md('## Beta Values:')\n",
    "print([round(b[0], 4) for b in beta])"
   ]
  }
 ],
 "metadata": {
  "kernelspec": {
   "display_name": "Python 3",
   "language": "python",
   "name": "python3"
  },
  "language_info": {
   "codemirror_mode": {
    "name": "ipython",
    "version": 3
   },
   "file_extension": ".py",
   "mimetype": "text/x-python",
   "name": "python",
   "nbconvert_exporter": "python",
   "pygments_lexer": "ipython3",
   "version": "3.11.0"
  }
 },
 "nbformat": 4,
 "nbformat_minor": 2
}
