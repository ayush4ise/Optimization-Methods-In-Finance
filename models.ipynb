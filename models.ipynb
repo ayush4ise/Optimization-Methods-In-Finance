{
 "cells": [
  {
   "cell_type": "markdown",
   "metadata": {},
   "source": [
    "## **Task**\n",
    "\n",
    "Use your dataset. Write code for the following models:  \n",
    "Find the minimum risk and corresponding return at the optimal portfolio and compare it with Markowitz models.\n",
    "\n",
    "* MINMAX\n",
    "\n",
    "*  MAD model\n",
    "\n",
    "* VaR model\n",
    "\n",
    "* CVaR model"
   ]
  },
  {
   "cell_type": "code",
   "execution_count": 1,
   "metadata": {},
   "outputs": [],
   "source": [
    "import pandas as pd\n",
    "import numpy as np\n",
    "\n",
    "num_assets = 50 # number of assets\n",
    "capital = 100000 # capital to invest\n",
    "\n",
    "cov_matrix = pd.read_excel('omf_all_data.xlsx', sheet_name='Covariance Matrix', index_col=0)\n",
    "# fill the upper triangle of the covariance matrix\n",
    "covariance_matrix = cov_matrix.fillna(cov_matrix.T)\n",
    "covariance_matrix = covariance_matrix.values\n",
    "\n",
    "# matrix of 1s\n",
    "e = np.array([[1] for _ in range(num_assets)])\n",
    "\n",
    "# expected rate of return\n",
    "mu = pd.read_excel('omf_all_data.xlsx', sheet_name='Expected rate of return, E(ri)', index_col=0)\n",
    "mu = mu.values\n",
    "mu = mu.T\n",
    "\n",
    "# rate of return\n",
    "r = pd.read_excel('omf_all_data.xlsx', sheet_name='Rate of Return (ri)', index_col=0)\n",
    "# drop last row\n",
    "r = r.drop(r.tail(1).index)\n",
    "r = r.values\n",
    "\n",
    "# time period T\n",
    "T = r.shape[0]\n",
    "\n",
    "# expected rate of return, R\n",
    "R = 0.005"
   ]
  },
  {
   "cell_type": "markdown",
   "metadata": {},
   "source": [
    "## **MINMAX Model**"
   ]
  },
  {
   "cell_type": "code",
   "execution_count": 2,
   "metadata": {},
   "outputs": [
    {
     "name": "stdout",
     "output_type": "stream",
     "text": [
      "Set parameter Username\n",
      "Academic license - for non-commercial use only - expires 2025-08-14\n",
      "Warning for adding constraints: zero or small (< 1e-13) coefficients, ignored\n",
      "Gurobi Optimizer version 10.0.0 build v10.0.0rc2 (win64)\n",
      "\n",
      "CPU model: Intel(R) Core(TM) i5-10210U CPU @ 1.60GHz, instruction set [SSE2|AVX|AVX2]\n",
      "Thread count: 4 physical cores, 8 logical processors, using up to 8 threads\n",
      "\n",
      "Optimize a model with 102 rows, 51 columns and 200 nonzeros\n",
      "Model fingerprint: 0x80309e40\n",
      "Coefficient statistics:\n",
      "  Matrix range     [8e-05, 1e+00]\n",
      "  Objective range  [1e+00, 1e+00]\n",
      "  Bounds range     [0e+00, 0e+00]\n",
      "  RHS range        [5e-03, 1e+00]\n",
      "Presolve removed 100 rows and 1 columns\n",
      "Presolve time: 0.01s\n",
      "Presolved: 2 rows, 50 columns, 100 nonzeros\n",
      "\n",
      "Iteration    Objective       Primal Inf.    Dual Inf.      Time\n",
      "       0    0.0000000e+00   3.886878e-01   0.000000e+00      0s\n",
      "       1    0.0000000e+00   0.000000e+00   0.000000e+00      0s\n",
      "\n",
      "Solved in 1 iterations and 0.02 seconds (0.00 work units)\n",
      "Optimal objective  0.000000000e+00\n"
     ]
    }
   ],
   "source": [
    "import gurobipy as gp\n",
    "\n",
    "# Create a new model\n",
    "model_minmax = gp.Model(\"minmax\")\n",
    "\n",
    "# Addition of matrix variable for the stock weights (portfolio)\n",
    "w = model_minmax.addMVar(num_assets)\n",
    "\n",
    "# Define variable lambda\n",
    "l = model_minmax.addMVar(1)\n",
    "\n",
    "# Set objective function\n",
    "model_minmax.setObjective(l, gp.GRB.MINIMIZE)\n",
    "\n",
    "# Constraint: l >= summation over t 1 to T (r_jt - mu_j) * w_j for all j\n",
    "for j in range(num_assets):\n",
    "    model_minmax.addConstr(l >= gp.quicksum((r[t, j] - mu[j]) * w[j] for t in range(T)))\n",
    "\n",
    "# Constraint: l >= - summation over t 1 to T (r_jt - mu_j) * w_j for all j\n",
    "for j in range(num_assets):\n",
    "    model_minmax.addConstr(l >= -gp.quicksum((r[t, j] - mu[j]) * w[j] for t in range(T)))\n",
    "\n",
    "# Constraint: sum(w) = 1\n",
    "model_minmax.addConstr(gp.quicksum(w) == 1)\n",
    "\n",
    "# Constraint: mu * w >= R \n",
    "model_minmax.addConstr(mu.T @ w >= R)\n",
    "\n",
    "# Optimize model\n",
    "model_minmax.optimize()"
   ]
  },
  {
   "cell_type": "code",
   "execution_count": 3,
   "metadata": {},
   "outputs": [
    {
     "name": "stdout",
     "output_type": "stream",
     "text": [
      "Minimum risk: 0.0\n",
      "Optimal weights: [0.39494723 0.         0.         0.         0.         0.\n",
      " 0.         0.         0.         0.         0.         0.\n",
      " 0.         0.         0.         0.         0.         0.\n",
      " 0.         0.         0.         0.         0.         0.\n",
      " 0.         0.         0.         0.         0.         0.\n",
      " 0.         0.         0.         0.         0.60505277 0.\n",
      " 0.         0.         0.         0.         0.         0.\n",
      " 0.         0.         0.         0.         0.         0.\n",
      " 0.         0.        ]\n",
      "Optimal portfolio return: [0.005]\n"
     ]
    }
   ],
   "source": [
    "# Minimum risk\n",
    "minmax_risk = model_minmax.objVal\n",
    "\n",
    "# Optimal weights\n",
    "weights = w.x\n",
    "\n",
    "# Optimal portfolio return\n",
    "portfolio_return = mu.T @ weights\n",
    "\n",
    "print(f\"Minimum risk: {minmax_risk}\")\n",
    "print(f\"Optimal weights: {weights}\")\n",
    "print(f\"Optimal portfolio return: {portfolio_return}\")"
   ]
  },
  {
   "cell_type": "markdown",
   "metadata": {},
   "source": [
    "## **MAD Model**"
   ]
  },
  {
   "cell_type": "code",
   "execution_count": 4,
   "metadata": {},
   "outputs": [
    {
     "name": "stdout",
     "output_type": "stream",
     "text": [
      "Gurobi Optimizer version 10.0.0 build v10.0.0rc2 (win64)\n",
      "\n",
      "CPU model: Intel(R) Core(TM) i5-10210U CPU @ 1.60GHz, instruction set [SSE2|AVX|AVX2]\n",
      "Thread count: 4 physical cores, 8 logical processors, using up to 8 threads\n",
      "\n",
      "Optimize a model with 992 rows, 545 columns and 50590 nonzeros\n",
      "Model fingerprint: 0xb62db6c2\n",
      "Coefficient statistics:\n",
      "  Matrix range     [3e-07, 1e+00]\n",
      "  Objective range  [2e-03, 2e-03]\n",
      "  Bounds range     [0e+00, 0e+00]\n",
      "  RHS range        [5e-03, 1e+00]\n",
      "Presolve time: 0.03s\n",
      "Presolved: 992 rows, 545 columns, 50590 nonzeros\n",
      "\n",
      "Concurrent LP optimizer: dual simplex and barrier\n",
      "Showing barrier log only...\n",
      "\n",
      "Ordering time: 0.01s\n",
      "\n",
      "Barrier statistics:\n",
      " AA' NZ     : 4.915e+05\n",
      " Factor NZ  : 4.925e+05 (roughly 5 MB of memory)\n",
      " Factor Ops : 3.259e+08 (less than 1 second per iteration)\n",
      " Threads    : 3\n",
      "\n",
      "Barrier performed 0 iterations in 0.13 seconds (0.02 work units)\n",
      "Barrier solve interrupted - model solved by another algorithm\n",
      "\n",
      "\n",
      "Solved with dual simplex\n",
      "\n",
      "Solved in 584 iterations and 0.13 seconds (0.08 work units)\n",
      "Optimal objective  1.527752562e-02\n"
     ]
    }
   ],
   "source": [
    "# Create a new model\n",
    "model_mad = gp.Model(\"mad\")\n",
    "\n",
    "# Addition of matrix variable for the stock weights (portfolio)\n",
    "w = model_mad.addMVar(num_assets)\n",
    "\n",
    "# Define variable lambda\n",
    "y = model_mad.addMVar(T)\n",
    "\n",
    "# Set objective function\n",
    "model_mad.setObjective(gp.quicksum(y) / T, gp.GRB.MINIMIZE)\n",
    "\n",
    "# Constraint: yt >= summation over j 1 to n (r_jt - mu_j) * w_j for all t\n",
    "for t in range(T):\n",
    "    model_mad.addConstr(y[t] >= gp.quicksum((r[t, j] - mu[j]) * w[j] for j in range(num_assets)))\n",
    "\n",
    "# Constraint: l >= - summation over j 1 to n (r_jt - mu_j) * w_j for all t\n",
    "for t in range(T):\n",
    "    model_mad.addConstr(y[t] >= -gp.quicksum((r[t, j] - mu[j]) * w[j] for j in range(num_assets)))\n",
    "\n",
    "# Constraint: sum(w) = 1\n",
    "model_mad.addConstr(gp.quicksum(w) == 1)\n",
    "\n",
    "# Constraint: mu * w >= R \n",
    "model_mad.addConstr(mu.T @ w >= R)\n",
    "\n",
    "# Optimize model\n",
    "model_mad.optimize()"
   ]
  },
  {
   "cell_type": "code",
   "execution_count": 5,
   "metadata": {},
   "outputs": [
    {
     "name": "stdout",
     "output_type": "stream",
     "text": [
      "Minimum risk: 0.015277525620709165\n",
      "Optimal weights: [0.05327642 0.         0.         0.         0.         0.\n",
      " 0.         0.         0.         0.         0.         0.\n",
      " 0.         0.         0.         0.         0.         0.\n",
      " 0.         0.         0.         0.         0.         0.\n",
      " 0.         0.         0.08719926 0.         0.         0.23424915\n",
      " 0.06897883 0.         0.         0.28916118 0.25472714 0.\n",
      " 0.         0.         0.         0.         0.         0.\n",
      " 0.01240802 0.         0.         0.         0.         0.\n",
      " 0.         0.        ]\n",
      "Optimal portfolio return: [0.005]\n"
     ]
    }
   ],
   "source": [
    "# Minimum risk\n",
    "mad_risk = model_mad.objVal\n",
    "\n",
    "# Optimal weights\n",
    "weights = w.x\n",
    "\n",
    "# Optimal portfolio return\n",
    "portfolio_return = mu.T @ weights\n",
    "\n",
    "print(f\"Minimum risk: {mad_risk}\")\n",
    "print(f\"Optimal weights: {weights}\")\n",
    "print(f\"Optimal portfolio return: {portfolio_return}\")"
   ]
  },
  {
   "cell_type": "markdown",
   "metadata": {},
   "source": [
    "## **VaR Model**"
   ]
  },
  {
   "cell_type": "code",
   "execution_count": 6,
   "metadata": {},
   "outputs": [
    {
     "name": "stdout",
     "output_type": "stream",
     "text": [
      "VaR using variance-covariance method: -0.040759245435410506\n"
     ]
    }
   ],
   "source": [
    "from scipy.stats import norm\n",
    "\n",
    "# Calculate the mean and standard deviation of returns\n",
    "mean_return = np.mean(r)\n",
    "std_dev = np.std(r)\n",
    "\n",
    "# Calculate the VaR at 95% confidence level using the Z-score\n",
    "confidence_level = 0.95\n",
    "z_score = norm.ppf(1 - confidence_level)\n",
    "VaR_variance_covariance = mean_return + z_score * std_dev\n",
    "\n",
    "print(f\"VaR using variance-covariance method: {VaR_variance_covariance}\")"
   ]
  },
  {
   "cell_type": "markdown",
   "metadata": {},
   "source": [
    "## **CVaR Model**"
   ]
  },
  {
   "cell_type": "code",
   "execution_count": 7,
   "metadata": {},
   "outputs": [
    {
     "name": "stdout",
     "output_type": "stream",
     "text": [
      "VaR using historical method: -0.0302875106153957\n",
      "CVaR using historical method: -0.0515080119114732\n"
     ]
    }
   ],
   "source": [
    "# Calculate the VaR at 95% confidence level using the historical method\n",
    "returns = r.flatten()\n",
    "returns_sorted = np.sort(returns)\n",
    "VaR_historical = np.percentile(returns_sorted, 5)\n",
    "\n",
    "print(f\"VaR using historical method: {VaR_historical}\")\n",
    "\n",
    "# Calculate the CVaR at 95% confidence level using the historical method\n",
    "CVaR_historical = np.mean(returns_sorted[returns_sorted <= VaR_historical])\n",
    "\n",
    "print(f\"CVaR using historical method: {CVaR_historical}\")"
   ]
  }
 ],
 "metadata": {
  "kernelspec": {
   "display_name": "Python 3",
   "language": "python",
   "name": "python3"
  },
  "language_info": {
   "codemirror_mode": {
    "name": "ipython",
    "version": 3
   },
   "file_extension": ".py",
   "mimetype": "text/x-python",
   "name": "python",
   "nbconvert_exporter": "python",
   "pygments_lexer": "ipython3",
   "version": "3.11.0"
  }
 },
 "nbformat": 4,
 "nbformat_minor": 2
}
